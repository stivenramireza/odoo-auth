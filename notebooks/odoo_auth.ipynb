{
 "metadata": {
  "language_info": {
   "codemirror_mode": {
    "name": "ipython",
    "version": 3
   },
   "file_extension": ".py",
   "mimetype": "text/x-python",
   "name": "python",
   "nbconvert_exporter": "python",
   "pygments_lexer": "ipython3",
   "version": "3.9.5"
  },
  "orig_nbformat": 2,
  "kernelspec": {
   "name": "python395jvsc74a57bd04225003ecd2cf710bad6ec537816fced380c42c5f249df7cb84d906189f02edf",
   "display_name": "Python 3.9.5 64-bit ('odoo-auth-la_kEV_b': virtualenvwrapper)"
  },
  "metadata": {
   "interpreter": {
    "hash": "4225003ecd2cf710bad6ec537816fced380c42c5f249df7cb84d906189f02edf"
   }
  }
 },
 "nbformat": 4,
 "nbformat_minor": 2,
 "cells": [
  {
   "source": [
    "# Odoo Auth"
   ],
   "cell_type": "markdown",
   "metadata": {}
  },
  {
   "cell_type": "code",
   "execution_count": 24,
   "metadata": {},
   "outputs": [],
   "source": [
    "from pandas import DataFrame"
   ]
  },
  {
   "source": [
    "## XML-RPC Client"
   ],
   "cell_type": "markdown",
   "metadata": {}
  },
  {
   "cell_type": "code",
   "execution_count": 16,
   "metadata": {},
   "outputs": [],
   "source": [
    "ODOO_URL = <ODOO_URL>\n",
    "ODOO_DB = <ODOO_DB>\n",
    "ODOO_USERNAME = <ODOO_USERNAME>\n",
    "ODOO_PASSWORD = <ODOO_PASSWORD>"
   ]
  },
  {
   "cell_type": "code",
   "execution_count": 17,
   "metadata": {},
   "outputs": [],
   "source": [
    "import xmlrpc.client"
   ]
  },
  {
   "cell_type": "code",
   "execution_count": 18,
   "metadata": {},
   "outputs": [
    {
     "output_type": "execute_result",
     "data": {
      "text/plain": [
       "{'server_version': '14.0+e',\n",
       " 'server_version_info': [14, 0, 0, 'final', 0, 'e'],\n",
       " 'server_serie': '14.0',\n",
       " 'protocol_version': 1}"
      ]
     },
     "metadata": {},
     "execution_count": 18
    }
   ],
   "source": [
    "common = xmlrpc.client.ServerProxy('{}/xmlrpc/2/common'.format(ODOO_URL))\n",
    "version = common.version()\n",
    "version"
   ]
  },
  {
   "cell_type": "code",
   "execution_count": 19,
   "metadata": {},
   "outputs": [
    {
     "output_type": "execute_result",
     "data": {
      "text/plain": [
       "10"
      ]
     },
     "metadata": {},
     "execution_count": 19
    }
   ],
   "source": [
    "uid = common.authenticate(ODOO_DB, ODOO_USERNAME, ODOO_PASSWORD, {})\n",
    "uid"
   ]
  },
  {
   "cell_type": "code",
   "execution_count": 23,
   "metadata": {},
   "outputs": [],
   "source": [
    "models = xmlrpc.client.ServerProxy('{}/xmlrpc/2/object'.format(ODOO_URL))\n",
    "partners = models.execute_kw(ODOO_DB, uid, ODOO_PASSWORD, 'res.partner', 'search_read', [[['is_company', '=', True]]], {'fields': ['id', 'country_id', 'name', 'vat', 'email'], 'limit': 100})\n",
    "df_partners = DataFrame(partners)"
   ]
  }
 ]
}